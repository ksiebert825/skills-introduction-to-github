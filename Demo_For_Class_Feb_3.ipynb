{
  "nbformat": 4,
  "nbformat_minor": 0,
  "metadata": {
    "colab": {
      "provenance": [],
      "authorship_tag": "ABX9TyM5AfgIWubTfOVWUkQ11nO1",
      "include_colab_link": true
    },
    "kernelspec": {
      "name": "ir",
      "display_name": "R"
    },
    "language_info": {
      "name": "R"
    }
  },
  "cells": [
    {
      "cell_type": "markdown",
      "metadata": {
        "id": "view-in-github",
        "colab_type": "text"
      },
      "source": [
        "<a href=\"https://colab.research.google.com/github/ksiebert825/skills-introduction-to-github/blob/main/Demo_For_Class_Feb_3.ipynb\" target=\"_parent\"><img src=\"https://colab.research.google.com/assets/colab-badge.svg\" alt=\"Open In Colab\"/></a>"
      ]
    },
    {
      "cell_type": "code",
      "execution_count": null,
      "metadata": {
        "id": "8TQJtfmf7bUi"
      },
      "outputs": [],
      "source": []
    },
    {
      "cell_type": "markdown",
      "source": [
        "Read in my data for class\n"
      ],
      "metadata": {
        "id": "BSuwHGhvGJLI"
      }
    },
    {
      "source": [
        "# Install required packages\n",
        "if(!require(readxl)){\n",
        "  install.packages(\"readxl\")\n",
        "}\n",
        "library(readxl)\n",
        "\n",
        "# Mount Google Drive (If necessary)\n",
        "# This might be slightly inaccurate, but try the following:\n",
        "# From the 'Files' tab, click 'Mount Drive'. Authorize access if prompted.\n",
        "# Your Drive will be mounted at '/content/drive/My Drive'\n",
        "\n",
        "# Specify file path\n",
        "file_path <- \"/content/drive/My Drive/Contraceptive_Use_Data_Set.xlsx\" # Replace with your actual path\n",
        "\n",
        "# Read data into a data frame\n",
        "data <- read_excel(\"Contraceptive_Use_Data_Set.xlsx\")\n",
        "\n",
        "# View the first few rows of the data\n",
        "head(data)\n",
        "\n",
        "dim(data)"
      ],
      "cell_type": "code",
      "metadata": {
        "colab": {
          "base_uri": "https://localhost:8080/",
          "height": 729
        },
        "id": "mCiYKwRzA_3X",
        "outputId": "ba3760e6-4058-432e-a312-b67d9470c7c3"
      },
      "execution_count": null,
      "outputs": [
        {
          "output_type": "stream",
          "name": "stderr",
          "text": [
            "\u001b[1m\u001b[22mNew names:\n",
            "\u001b[36m•\u001b[39m `` -> `...2`\n",
            "\u001b[36m•\u001b[39m `` -> `...3`\n",
            "\u001b[36m•\u001b[39m `` -> `...4`\n",
            "\u001b[36m•\u001b[39m `` -> `...5`\n",
            "\u001b[36m•\u001b[39m `` -> `...6`\n",
            "\u001b[36m•\u001b[39m `` -> `...7`\n",
            "\u001b[36m•\u001b[39m `` -> `...8`\n",
            "\u001b[36m•\u001b[39m `` -> `...9`\n",
            "\u001b[36m•\u001b[39m `` -> `...10`\n",
            "\u001b[36m•\u001b[39m `` -> `...11`\n",
            "\u001b[36m•\u001b[39m `` -> `...12`\n",
            "\u001b[36m•\u001b[39m `` -> `...13`\n"
          ]
        },
        {
          "output_type": "display_data",
          "data": {
            "text/html": [
              "<table class=\"dataframe\">\n",
              "<caption>A tibble: 6 × 13</caption>\n",
              "<thead>\n",
              "\t<tr><th scope=col>Table 8. Contraceptive use in the past month among women aged 15–44, by age, race and Hispanic origin, and method of contraception: United States, selected years 1982 through 2011–2015</th><th scope=col>...2</th><th scope=col>...3</th><th scope=col>...4</th><th scope=col>...5</th><th scope=col>...6</th><th scope=col>...7</th><th scope=col>...8</th><th scope=col>...9</th><th scope=col>...10</th><th scope=col>...11</th><th scope=col>...12</th><th scope=col>...13</th></tr>\n",
              "\t<tr><th scope=col>&lt;chr&gt;</th><th scope=col>&lt;chr&gt;</th><th scope=col>&lt;chr&gt;</th><th scope=col>&lt;chr&gt;</th><th scope=col>&lt;chr&gt;</th><th scope=col>&lt;chr&gt;</th><th scope=col>&lt;chr&gt;</th><th scope=col>&lt;chr&gt;</th><th scope=col>&lt;chr&gt;</th><th scope=col>&lt;chr&gt;</th><th scope=col>&lt;chr&gt;</th><th scope=col>&lt;chr&gt;</th><th scope=col>&lt;chr&gt;</th></tr>\n",
              "</thead>\n",
              "<tbody>\n",
              "\t<tr><td>Excel version (with more data years and standard errors when available): https://www.cdc.gov/nchs/hus/contents2017.htm#008.</td><td>NA                                  </td><td>NA   </td><td>NA  </td><td>NA   </td><td>NA  </td><td>NA </td><td>NA  </td><td>NA </td><td>NA       </td><td>NA </td><td>NA                </td><td>NA </td></tr>\n",
              "\t<tr><td>[Data are based on household interviews of samples of women of childbearing age]                                           </td><td>NA                                  </td><td>NA   </td><td>NA  </td><td>NA   </td><td>NA  </td><td>NA </td><td>NA  </td><td>NA </td><td>NA       </td><td>NA </td><td>NA                </td><td>NA </td></tr>\n",
              "\t<tr><td>Age and race and Hispanic origin1/                                                                                         </td><td>1982                                </td><td>SE   </td><td>1988</td><td>SE   </td><td>1995</td><td>SE </td><td>2002</td><td>SE </td><td>2006–2010</td><td>SE </td><td>2011–2015         </td><td>SE </td></tr>\n",
              "\t<tr><td>All women2/                                                                                                                </td><td>Percent of women using contraception</td><td>NA   </td><td>NA  </td><td>NA   </td><td>NA  </td><td>NA </td><td>NA  </td><td>NA </td><td>NA       </td><td>NA </td><td>NA                </td><td>NA </td></tr>\n",
              "\t<tr><td>15–44 years                                                                                                                </td><td>55.7                                </td><td>- - -</td><td>60.3</td><td>- - -</td><td>64.2</td><td>0.6</td><td>61.9</td><td>0.8</td><td>62.2     </td><td>0.8</td><td>61.6              </td><td>0.7</td></tr>\n",
              "\t<tr><td>15–19 years                                                                                                                </td><td>24.2                                </td><td>- - -</td><td>32.1</td><td>- - -</td><td>29.8</td><td>1.3</td><td>31.5</td><td>1.6</td><td>30.5     </td><td>1.4</td><td>33.200000000000003</td><td>1.8</td></tr>\n",
              "</tbody>\n",
              "</table>\n"
            ],
            "text/markdown": "\nA tibble: 6 × 13\n\n| Table 8. Contraceptive use in the past month among women aged 15–44, by age, race and Hispanic origin, and method of contraception: United States, selected years 1982 through 2011–2015 &lt;chr&gt; | ...2 &lt;chr&gt; | ...3 &lt;chr&gt; | ...4 &lt;chr&gt; | ...5 &lt;chr&gt; | ...6 &lt;chr&gt; | ...7 &lt;chr&gt; | ...8 &lt;chr&gt; | ...9 &lt;chr&gt; | ...10 &lt;chr&gt; | ...11 &lt;chr&gt; | ...12 &lt;chr&gt; | ...13 &lt;chr&gt; |\n|---|---|---|---|---|---|---|---|---|---|---|---|---|\n| Excel version (with more data years and standard errors when available): https://www.cdc.gov/nchs/hus/contents2017.htm#008. | NA                                   | NA    | NA   | NA    | NA   | NA  | NA   | NA  | NA        | NA  | NA                 | NA  |\n| [Data are based on household interviews of samples of women of childbearing age]                                            | NA                                   | NA    | NA   | NA    | NA   | NA  | NA   | NA  | NA        | NA  | NA                 | NA  |\n| Age and race and Hispanic origin1/                                                                                          | 1982                                 | SE    | 1988 | SE    | 1995 | SE  | 2002 | SE  | 2006–2010 | SE  | 2011–2015          | SE  |\n| All women2/                                                                                                                 | Percent of women using contraception | NA    | NA   | NA    | NA   | NA  | NA   | NA  | NA        | NA  | NA                 | NA  |\n| 15–44 years                                                                                                                 | 55.7                                 | - - - | 60.3 | - - - | 64.2 | 0.6 | 61.9 | 0.8 | 62.2      | 0.8 | 61.6               | 0.7 |\n| 15–19 years                                                                                                                 | 24.2                                 | - - - | 32.1 | - - - | 29.8 | 1.3 | 31.5 | 1.6 | 30.5      | 1.4 | 33.200000000000003 | 1.8 |\n\n",
            "text/latex": "A tibble: 6 × 13\n\\begin{tabular}{lllllllllllll}\n Table 8. Contraceptive use in the past month among women aged 15–44, by age, race and Hispanic origin, and method of contraception: United States, selected years 1982 through 2011–2015 & ...2 & ...3 & ...4 & ...5 & ...6 & ...7 & ...8 & ...9 & ...10 & ...11 & ...12 & ...13\\\\\n <chr> & <chr> & <chr> & <chr> & <chr> & <chr> & <chr> & <chr> & <chr> & <chr> & <chr> & <chr> & <chr>\\\\\n\\hline\n\t Excel version (with more data years and standard errors when available): https://www.cdc.gov/nchs/hus/contents2017.htm\\#008. & NA                                   & NA    & NA   & NA    & NA   & NA  & NA   & NA  & NA        & NA  & NA                 & NA \\\\\n\t {[}Data are based on household interviews of samples of women of childbearing age{]}                                            & NA                                   & NA    & NA   & NA    & NA   & NA  & NA   & NA  & NA        & NA  & NA                 & NA \\\\\n\t Age and race and Hispanic origin1/                                                                                          & 1982                                 & SE    & 1988 & SE    & 1995 & SE  & 2002 & SE  & 2006–2010 & SE  & 2011–2015          & SE \\\\\n\t All women2/                                                                                                                 & Percent of women using contraception & NA    & NA   & NA    & NA   & NA  & NA   & NA  & NA        & NA  & NA                 & NA \\\\\n\t 15–44 years                                                                                                                 & 55.7                                 & - - - & 60.3 & - - - & 64.2 & 0.6 & 61.9 & 0.8 & 62.2      & 0.8 & 61.6               & 0.7\\\\\n\t 15–19 years                                                                                                                 & 24.2                                 & - - - & 32.1 & - - - & 29.8 & 1.3 & 31.5 & 1.6 & 30.5      & 1.4 & 33.200000000000003 & 1.8\\\\\n\\end{tabular}\n",
            "text/plain": [
              "  Table 8. Contraceptive use in the past month among women aged 15–44, by age, race and Hispanic origin, and method of contraception: United States, selected years 1982 through 2011–2015\n",
              "1 Excel version (with more data years and standard errors when available): https://www.cdc.gov/nchs/hus/contents2017.htm#008.                                                             \n",
              "2 [Data are based on household interviews of samples of women of childbearing age]                                                                                                        \n",
              "3 Age and race and Hispanic origin1/                                                                                                                                                      \n",
              "4 All women2/                                                                                                                                                                             \n",
              "5 15–44 years                                                                                                                                                                             \n",
              "6 15–19 years                                                                                                                                                                             \n",
              "  ...2                                 ...3  ...4 ...5  ...6 ...7 ...8 ...9\n",
              "1 NA                                   NA    NA   NA    NA   NA   NA   NA  \n",
              "2 NA                                   NA    NA   NA    NA   NA   NA   NA  \n",
              "3 1982                                 SE    1988 SE    1995 SE   2002 SE  \n",
              "4 Percent of women using contraception NA    NA   NA    NA   NA   NA   NA  \n",
              "5 55.7                                 - - - 60.3 - - - 64.2 0.6  61.9 0.8 \n",
              "6 24.2                                 - - - 32.1 - - - 29.8 1.3  31.5 1.6 \n",
              "  ...10     ...11 ...12              ...13\n",
              "1 NA        NA    NA                 NA   \n",
              "2 NA        NA    NA                 NA   \n",
              "3 2006–2010 SE    2011–2015          SE   \n",
              "4 NA        NA    NA                 NA   \n",
              "5 62.2      0.8   61.6               0.7  \n",
              "6 30.5      1.4   33.200000000000003 1.8  "
            ]
          },
          "metadata": {}
        },
        {
          "output_type": "display_data",
          "data": {
            "text/html": [
              "<style>\n",
              ".list-inline {list-style: none; margin:0; padding: 0}\n",
              ".list-inline>li {display: inline-block}\n",
              ".list-inline>li:not(:last-child)::after {content: \"\\00b7\"; padding: 0 .5ex}\n",
              "</style>\n",
              "<ol class=list-inline><li>176</li><li>13</li></ol>\n"
            ],
            "text/markdown": "1. 176\n2. 13\n\n\n",
            "text/latex": "\\begin{enumerate*}\n\\item 176\n\\item 13\n\\end{enumerate*}\n",
            "text/plain": [
              "[1] 176  13"
            ]
          },
          "metadata": {}
        }
      ]
    },
    {
      "cell_type": "markdown",
      "source": [
        "Now create a summary table"
      ],
      "metadata": {
        "id": "-zBzkAWUGTXK"
      }
    },
    {
      "source": [
        "# Install and load necessary packages\n",
        "if(!require(gtsummary)){\n",
        "  install.packages(\"gtsummary\")\n",
        "}\n",
        "if(!require(dplyr)){\n",
        "  install.packages(\"dplyr\")\n",
        "}\n",
        "library(gtsummary)\n",
        "library(dplyr)\n",
        "\n",
        "# Assuming your data is in a data frame called 'data'\n",
        "# Filter data for the desired groups\n",
        "filtered_data <- data %>%\n",
        "  filter(`All women2/` %in% c(\"15-44 years\", \"15-19 years\"))\n",
        "\n",
        "# Create the summary table\n",
        "summary_table <- filtered_data %>%\n",
        "  select(`All women2/`, `Percent of women using contraception`) %>%\n",
        "  tbl_summary(by = `All women2/`) %>%\n",
        "  add_p() # Add p-values for comparison\n",
        "\n",
        "# Display the table\n",
        "summary_table"
      ],
      "cell_type": "code",
      "metadata": {
        "id": "HvtWlKwoLJKR",
        "outputId": "26091195-aba5-411d-91c9-703d8da20f63",
        "colab": {
          "base_uri": "https://localhost:8080/",
          "height": 805
        }
      },
      "execution_count": null,
      "outputs": [
        {
          "output_type": "error",
          "ename": "ERROR",
          "evalue": "\u001b[1m\u001b[33mError\u001b[39m in `filter()`:\u001b[22m\n\u001b[1m\u001b[22m\u001b[36mℹ\u001b[39m In argument: ``All women2/` %in% c(\"15-44 years\", \"15-19 years\")`.\n\u001b[1mCaused by error:\u001b[22m\n\u001b[33m!\u001b[39m object 'All women2/' not found\n",
          "traceback": [
            "\u001b[1m\u001b[33mError\u001b[39m in `filter()`:\u001b[22m\n\u001b[1m\u001b[22m\u001b[36mℹ\u001b[39m In argument: ``All women2/` %in% c(\"15-44 years\", \"15-19 years\")`.\n\u001b[1mCaused by error:\u001b[22m\n\u001b[33m!\u001b[39m object 'All women2/' not found\nTraceback:\n",
            "1. filter(., `All women2/` %in% c(\"15-44 years\", \"15-19 years\"))",
            "2. filter.data.frame(., `All women2/` %in% c(\"15-44 years\", \"15-19 years\"))",
            "3. filter_rows(.data, dots, by)",
            "4. filter_eval(dots, mask = mask, error_call = error_call, user_env = user_env)",
            "5. withCallingHandlers(mask$eval_all_filter(dots, env_filter), error = dplyr_error_handler(dots = dots, \n .     mask = mask, bullets = filter_bullets, error_call = error_call), \n .     warning = function(cnd) {\n .         local_error_context(dots, i, mask)\n .         warning_handler(cnd)\n .     }, `dplyr:::signal_filter_one_column_matrix` = function(e) {\n .         warn_filter_one_column_matrix(env = error_call, user_env = user_env)\n .     }, `dplyr:::signal_filter_across` = function(e) {\n .         warn_filter_across(env = error_call, user_env = user_env)\n .     }, `dplyr:::signal_filter_data_frame` = function(e) {\n .         warn_filter_data_frame(env = error_call, user_env = user_env)\n .     })",
            "6. mask$eval_all_filter(dots, env_filter)",
            "7. eval()",
            "8. `All women2/` %in% c(\"15-44 years\", \"15-19 years\")",
            "9. .handleSimpleError(function (cnd) \n . {\n .     local_error_context(dots, i = frame[[i_sym]], mask = mask)\n .     if (inherits(cnd, \"dplyr:::internal_error\")) {\n .         parent <- error_cnd(message = bullets(cnd))\n .     }\n .     else {\n .         parent <- cnd\n .     }\n .     message <- c(cnd_bullet_header(action), i = if (has_active_group_context(mask)) cnd_bullet_cur_group_label())\n .     abort(message, class = error_class, parent = parent, call = error_call)\n . }, \"object 'All women2/' not found\", base::quote(NULL))",
            "10. h(simpleError(msg, call))",
            "11. abort(message, class = error_class, parent = parent, call = error_call)",
            "12. signal_abort(cnd, .file)",
            "13. signalCondition(cnd)"
          ]
        }
      ]
    }
  ]
}